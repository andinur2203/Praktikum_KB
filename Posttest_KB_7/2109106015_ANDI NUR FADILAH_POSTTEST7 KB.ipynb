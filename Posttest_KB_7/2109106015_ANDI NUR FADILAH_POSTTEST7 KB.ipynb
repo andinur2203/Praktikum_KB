{
 "cells": [
  {
   "cell_type": "markdown",
   "metadata": {},
   "source": [
    "# POSTTEST 7 Pengenalan Tensorflow\n",
    "# Nama  : ANDI NUR FADILAH\n",
    "# NIM   : 2109106015\n",
    "# Kelas : INFORMATIKA A 21"
   ]
  },
  {
   "cell_type": "markdown",
   "metadata": {},
   "source": [
    "## Mengimport library yang akan digunakan"
   ]
  },
  {
   "cell_type": "code",
   "execution_count": 26,
   "metadata": {},
   "outputs": [],
   "source": [
    "import tensorflow as tf"
   ]
  },
  {
   "cell_type": "markdown",
   "metadata": {},
   "source": [
    "## Membuat sebuah tensor dengan shape(5,5) dengan nilai random yang disimpan dalam variable random_tensor."
   ]
  },
  {
   "cell_type": "code",
   "execution_count": 27,
   "metadata": {},
   "outputs": [
    {
     "data": {
      "text/plain": [
       "<tf.Tensor: shape=(5, 5), dtype=float32, numpy=\n",
       "array([[-2.0386217 , -0.06832754,  0.4171738 , -1.290271  ,  0.07783908],\n",
       "       [ 0.31360468,  0.8964008 , -0.865767  ,  1.6553125 ,  0.90515447],\n",
       "       [-0.2164705 ,  0.6014769 , -0.06881501,  0.4637691 ,  0.341684  ],\n",
       "       [-0.3653365 , -1.5226474 ,  1.4054253 ,  1.572772  ,  0.8497446 ],\n",
       "       [ 1.7515571 , -0.3123043 ,  0.82441854,  1.2453004 ,  0.8408737 ]],\n",
       "      dtype=float32)>"
      ]
     },
     "execution_count": 27,
     "metadata": {},
     "output_type": "execute_result"
    }
   ],
   "source": [
    "random_tensor = tf.random.normal([5, 5])\n",
    "random_tensor"
   ]
  },
  {
   "cell_type": "markdown",
   "metadata": {},
   "source": [
    "## Membuat sebuah tensor dengan shape(5,5) dari sebuah list dengan nilai bilangan prima dalam variable prime_tensor."
   ]
  },
  {
   "cell_type": "code",
   "execution_count": 28,
   "metadata": {},
   "outputs": [
    {
     "data": {
      "text/plain": [
       "<tf.Tensor: shape=(5, 5), dtype=float32, numpy=\n",
       "array([[ 2.,  3.,  5.,  7., 11.],\n",
       "       [13., 17., 19., 23., 29.],\n",
       "       [31., 37., 41., 43., 47.],\n",
       "       [53., 59., 61., 67., 71.],\n",
       "       [73., 79., 83., 89., 97.]], dtype=float32)>"
      ]
     },
     "execution_count": 28,
     "metadata": {},
     "output_type": "execute_result"
    }
   ],
   "source": [
    "prime_tensor = tf.constant([2, 3, 5, 7, 11,\n",
    "                            13, 17, 19, 23, 29,\n",
    "                            31, 37, 41, 43, 47,\n",
    "                            53, 59, 61, 67, 71,\n",
    "                            73, 79, 83, 89, 97], shape=[5, 5], dtype=tf.float32)\n",
    "prime_tensor"
   ]
  },
  {
   "cell_type": "markdown",
   "metadata": {},
   "source": [
    "## Menampilkan dimensi dari variable random_tensor dan prime_tensor."
   ]
  },
  {
   "cell_type": "markdown",
   "metadata": {},
   "source": [
    "### Dimensi variable random_tensor"
   ]
  },
  {
   "cell_type": "code",
   "execution_count": 29,
   "metadata": {},
   "outputs": [
    {
     "data": {
      "text/plain": [
       "TensorShape([5, 5])"
      ]
     },
     "execution_count": 29,
     "metadata": {},
     "output_type": "execute_result"
    }
   ],
   "source": [
    "dim_display_random = tf.constant(['random_tensor'], shape=[5,5])\n",
    "dim_display_random.shape"
   ]
  },
  {
   "cell_type": "code",
   "execution_count": 30,
   "metadata": {},
   "outputs": [
    {
     "data": {
      "text/plain": [
       "<tf.Tensor: shape=(2,), dtype=int32, numpy=array([5, 5])>"
      ]
     },
     "execution_count": 30,
     "metadata": {},
     "output_type": "execute_result"
    }
   ],
   "source": [
    "tf.shape(dim_display_random)"
   ]
  },
  {
   "cell_type": "markdown",
   "metadata": {},
   "source": [
    "### Dimensi variable prime_tensor"
   ]
  },
  {
   "cell_type": "code",
   "execution_count": 31,
   "metadata": {},
   "outputs": [
    {
     "data": {
      "text/plain": [
       "TensorShape([5, 5])"
      ]
     },
     "execution_count": 31,
     "metadata": {},
     "output_type": "execute_result"
    }
   ],
   "source": [
    "dim_display_prime = tf.constant(['prime_tensor'], shape=[5,5])\n",
    "dim_display_prime.shape"
   ]
  },
  {
   "cell_type": "code",
   "execution_count": 32,
   "metadata": {},
   "outputs": [
    {
     "data": {
      "text/plain": [
       "<tf.Tensor: shape=(2,), dtype=int32, numpy=array([5, 5])>"
      ]
     },
     "execution_count": 32,
     "metadata": {},
     "output_type": "execute_result"
    }
   ],
   "source": [
    "tf.shape(dim_display_prime)"
   ]
  },
  {
   "cell_type": "markdown",
   "metadata": {},
   "source": [
    "## Menampilkan hasil dari perhitungan aritmetika variable random_tensor dan prime_tensor (menggunakan minimal 5 operator)."
   ]
  },
  {
   "cell_type": "markdown",
   "metadata": {},
   "source": [
    "### Operator Penjumlahan"
   ]
  },
  {
   "cell_type": "code",
   "execution_count": 33,
   "metadata": {},
   "outputs": [
    {
     "name": "stdout",
     "output_type": "stream",
     "text": [
      "HASIL PENJUMLAHAN DARI VARIABLE RANDOM_TENSOR dan PRIME_TENSOR\n"
     ]
    },
    {
     "data": {
      "text/plain": [
       "<tf.Tensor: shape=(5, 5), dtype=float32, numpy=\n",
       "array([[ 1.8192044,  3.291679 ,  3.9197912,  5.9960093, 12.370775 ],\n",
       "       [12.79041  , 18.335018 , 18.941368 , 22.293875 , 28.846476 ],\n",
       "       [29.560883 , 36.42693  , 41.555653 , 42.33834  , 46.80367  ],\n",
       "       [52.718746 , 59.944653 , 59.97648  , 66.795975 , 70.71641  ],\n",
       "       [72.49378  , 80.16298  , 81.878654 , 87.51999  , 98.83058  ]],\n",
       "      dtype=float32)>"
      ]
     },
     "execution_count": 33,
     "metadata": {},
     "output_type": "execute_result"
    }
   ],
   "source": [
    "random_tensor = tf.random.normal([5, 5])\n",
    "prime_tensor  = tf.constant([2, 3, 5, 7, 11,\n",
    "                            13, 17, 19, 23, 29,\n",
    "                            31, 37, 41, 43, 47,\n",
    "                            53, 59, 61, 67, 71,\n",
    "                            73, 79, 83, 89, 97], shape=[5, 5], dtype=tf.float32)\n",
    "\n",
    "print(\"HASIL PENJUMLAHAN DARI VARIABLE RANDOM_TENSOR dan PRIME_TENSOR\")\n",
    "tf.add(random_tensor, prime_tensor)"
   ]
  },
  {
   "cell_type": "markdown",
   "metadata": {},
   "source": [
    "### Operator Pengurangan"
   ]
  },
  {
   "cell_type": "code",
   "execution_count": 34,
   "metadata": {},
   "outputs": [
    {
     "name": "stdout",
     "output_type": "stream",
     "text": [
      "HASIL PENGURANGAN DARI VARIABLE RANDOM_TENSOR dan PRIME_TENSOR\n"
     ]
    },
    {
     "data": {
      "text/plain": [
       "<tf.Tensor: shape=(5, 5), dtype=float32, numpy=\n",
       "array([[ -1.3639503,  -2.3780358,  -5.2719946,  -7.358206 , -10.627363 ],\n",
       "       [-13.696223 , -17.152843 , -18.143295 , -23.749542 , -29.470978 ],\n",
       "       [-30.687653 , -36.03062  , -40.732685 , -43.234684 , -44.940243 ],\n",
       "       [-53.878136 , -58.92001  , -63.016956 , -66.78708  , -70.91571  ],\n",
       "       [-74.50668  , -78.289185 , -84.80833  , -87.85768  , -95.8295   ]],\n",
       "      dtype=float32)>"
      ]
     },
     "execution_count": 34,
     "metadata": {},
     "output_type": "execute_result"
    }
   ],
   "source": [
    "random_tensor = tf.random.normal([5, 5])\n",
    "prime_tensor  = tf.constant([2, 3, 5, 7, 11,\n",
    "                            13, 17, 19, 23, 29,\n",
    "                            31, 37, 41, 43, 47,\n",
    "                            53, 59, 61, 67, 71,\n",
    "                            73, 79, 83, 89, 97], shape=[5, 5], dtype=tf.float32)\n",
    "\n",
    "print(\"HASIL PENGURANGAN DARI VARIABLE RANDOM_TENSOR dan PRIME_TENSOR\")\n",
    "tf.subtract(random_tensor, prime_tensor)"
   ]
  },
  {
   "cell_type": "markdown",
   "metadata": {},
   "source": [
    "### Operator Perkalian"
   ]
  },
  {
   "cell_type": "code",
   "execution_count": 35,
   "metadata": {},
   "outputs": [
    {
     "name": "stdout",
     "output_type": "stream",
     "text": [
      "HASIL PERKALIAN DARI VARIABLE RANDOM_TENSOR dan PRIME_TENSOR\n"
     ]
    },
    {
     "data": {
      "text/plain": [
       "<tf.Tensor: shape=(5, 5), dtype=float32, numpy=\n",
       "array([[  20.38182  ,   27.024212 ,   30.122532 ,   38.790512 ,\n",
       "          49.2863   ],\n",
       "       [   1.5969791,   -1.2231259,   -2.6157553,   -2.0131502,\n",
       "          -1.3813748],\n",
       "       [ -53.110653 ,  -60.87399  ,  -65.88853  ,  -72.103516 ,\n",
       "         -81.3366   ],\n",
       "       [ -87.146904 ,  -97.81394  , -102.28945  , -112.26136  ,\n",
       "        -120.35686  ],\n",
       "       [ 132.42656  ,  145.6005   ,  154.16835  ,  162.5904   ,\n",
       "         175.2147   ]], dtype=float32)>"
      ]
     },
     "execution_count": 35,
     "metadata": {},
     "output_type": "execute_result"
    }
   ],
   "source": [
    "random_tensor = tf.random.normal([5, 5])\n",
    "prime_tensor  = tf.constant([2, 3, 5, 7, 11,\n",
    "                            13, 17, 19, 23, 29,\n",
    "                            31, 37, 41, 43, 47,\n",
    "                            53, 59, 61, 67, 71,\n",
    "                            73, 79, 83, 89, 97], shape=[5, 5], dtype=tf.float32)\n",
    "\n",
    "print(\"HASIL PERKALIAN DARI VARIABLE RANDOM_TENSOR dan PRIME_TENSOR\")\n",
    "tf.matmul(random_tensor, prime_tensor)"
   ]
  },
  {
   "cell_type": "markdown",
   "metadata": {},
   "source": [
    "### Operator Pembagian"
   ]
  },
  {
   "cell_type": "code",
   "execution_count": 36,
   "metadata": {},
   "outputs": [
    {
     "name": "stdout",
     "output_type": "stream",
     "text": [
      "HASIL PEMBAGIAN DARI VARIABLE RANDOM_TENSOR dan PRIME_TENSOR\n"
     ]
    },
    {
     "data": {
      "text/plain": [
       "<tf.Tensor: shape=(5, 5), dtype=float32, numpy=\n",
       "array([[-9.8087448e-01,  4.3198964e-01, -4.5469084e-01,  1.3285799e-01,\n",
       "        -9.3548782e-03],\n",
       "       [ 2.5971698e-02, -3.5716087e-02,  7.6995783e-02, -7.2443582e-02,\n",
       "         2.5698405e-02],\n",
       "       [-1.6575288e-02, -4.2424690e-02, -9.5679853e-03, -2.3302441e-02,\n",
       "         8.3172740e-03],\n",
       "       [ 1.2178859e-02, -2.1850014e-02,  1.4819419e-02, -7.6245272e-04,\n",
       "        -9.1004875e-03],\n",
       "       [-7.1996604e-03,  1.9942392e-02, -1.0097850e-02,  1.2709318e-02,\n",
       "         2.8857628e-03]], dtype=float32)>"
      ]
     },
     "execution_count": 36,
     "metadata": {},
     "output_type": "execute_result"
    }
   ],
   "source": [
    "random_tensor = tf.random.normal([5, 5])\n",
    "prime_tensor  = tf.constant([2, 3, 5, 7, 11,\n",
    "                            13, 17, 19, 23, 29,\n",
    "                            31, 37, 41, 43, 47,\n",
    "                            53, 59, 61, 67, 71,\n",
    "                            73, 79, 83, 89, 97], shape=[5, 5], dtype=tf.float32)\n",
    "\n",
    "print(\"HASIL PEMBAGIAN DARI VARIABLE RANDOM_TENSOR dan PRIME_TENSOR\")\n",
    "tf.divide(random_tensor, prime_tensor)"
   ]
  },
  {
   "cell_type": "markdown",
   "metadata": {},
   "source": [
    "### Operator Pangkat"
   ]
  },
  {
   "cell_type": "code",
   "execution_count": 37,
   "metadata": {},
   "outputs": [
    {
     "name": "stdout",
     "output_type": "stream",
     "text": [
      "HASIL PANGKAT DARI VARIABLE RANDOM_TENSOR dan PRIME_TENSOR\n"
     ]
    },
    {
     "data": {
      "text/plain": [
       "<tf.Tensor: shape=(5, 5), dtype=float32, numpy=\n",
       "array([[ 1.5173788e-02,  6.2961035e+00, -1.3543417e-01,  2.6608494e+01,\n",
       "         6.6584850e-12],\n",
       "       [-4.9438992e+00,  5.5260807e-17,  1.9788865e-11, -1.5470589e+01,\n",
       "         4.1634662e-06],\n",
       "       [ 2.7718198e-32,  0.0000000e+00, -7.5196348e-37, -2.9420662e+07,\n",
       "        -5.3695728e+14],\n",
       "       [-1.2243898e+18,  0.0000000e+00, -7.5545669e-20, -2.7533088e+04,\n",
       "         1.1015405e-19],\n",
       "       [ 0.0000000e+00,  0.0000000e+00,  4.3514004e-28, -2.7330840e+20,\n",
       "         2.2096938e+08]], dtype=float32)>"
      ]
     },
     "execution_count": 37,
     "metadata": {},
     "output_type": "execute_result"
    }
   ],
   "source": [
    "random_tensor = tf.random.normal([5, 5])\n",
    "prime_tensor  = tf.constant([2, 3, 5, 7, 11,\n",
    "                            13, 17, 19, 23, 29,\n",
    "                            31, 37, 41, 43, 47,\n",
    "                            53, 59, 61, 67, 71,\n",
    "                            73, 79, 83, 89, 97], shape=[5, 5], dtype=tf.float32)\n",
    "\n",
    "print(\"HASIL PANGKAT DARI VARIABLE RANDOM_TENSOR dan PRIME_TENSOR\")\n",
    "tf.pow(random_tensor, prime_tensor)"
   ]
  },
  {
   "cell_type": "markdown",
   "metadata": {},
   "source": [
    "## Menampilkan nilai maksimum dan minimum dari variable random_tensor."
   ]
  },
  {
   "cell_type": "markdown",
   "metadata": {},
   "source": [
    "### Nilai maksimum variable random_tensor"
   ]
  },
  {
   "cell_type": "code",
   "execution_count": 38,
   "metadata": {},
   "outputs": [
    {
     "name": "stdout",
     "output_type": "stream",
     "text": [
      "LOKASI NILAI MAKSIMUM\n",
      "Berdasarkan Kolom tf.Tensor([2 0 4 0 4], shape=(5,), dtype=int64)\n",
      "Berdasarkan Baris tf.Tensor([1 4 0 4 4], shape=(5,), dtype=int64)\n"
     ]
    }
   ],
   "source": [
    "max_random_kolom_tensor = tf.argmax(random_tensor, axis = 0)\n",
    "max_random_baris_tensor = tf.argmax(random_tensor, axis = 1)\n",
    "\n",
    "print(\"LOKASI NILAI MAKSIMUM\")\n",
    "print(\"Berdasarkan Kolom\", max_random_kolom_tensor)\n",
    "print(\"Berdasarkan Baris\", max_random_baris_tensor)"
   ]
  },
  {
   "cell_type": "markdown",
   "metadata": {},
   "source": [
    "### Nilai minimum variable random_tensor"
   ]
  },
  {
   "cell_type": "code",
   "execution_count": 39,
   "metadata": {},
   "outputs": [
    {
     "name": "stdout",
     "output_type": "stream",
     "text": [
      "LOKASI NILAI MINIMUM\n",
      "Berdasarkan Kolom tf.Tensor([3 4 0 4 2], shape=(5,), dtype=int64)\n",
      "Berdasarkan Baris tf.Tensor([2 0 4 0 3], shape=(5,), dtype=int64)\n"
     ]
    }
   ],
   "source": [
    "min_random_kolom_tensor = tf.argmin(random_tensor, axis = 0)\n",
    "min_random_baris_tensor = tf.argmin(random_tensor, axis = 1)\n",
    "\n",
    "print(\"LOKASI NILAI MINIMUM\")\n",
    "print(\"Berdasarkan Kolom\", min_random_kolom_tensor)\n",
    "print(\"Berdasarkan Baris\", min_random_baris_tensor)"
   ]
  },
  {
   "cell_type": "markdown",
   "metadata": {},
   "source": [
    "## Menampilkan hasil dari penggabungan variable random_tensor dengan prime_tensor (concatenation)"
   ]
  },
  {
   "cell_type": "code",
   "execution_count": 40,
   "metadata": {},
   "outputs": [
    {
     "data": {
      "text/plain": [
       "<tf.Tensor: shape=(10, 5), dtype=float32, numpy=\n",
       "array([[-1.2318193e-01,  1.8465339e+00, -6.7041796e-01,  1.5979910e+00,\n",
       "         9.6370302e-02],\n",
       "       [-1.1308109e+00,  1.1057873e-01,  2.7330887e-01, -1.1264650e+00,\n",
       "         6.5232491e-01],\n",
       "       [ 9.5945515e-02,  7.5444266e-02, -1.3150178e-01, -1.4917278e+00,\n",
       "        -2.0577991e+00],\n",
       "       [-2.1942267e+00,  9.7970650e-02, -4.8587888e-01, -1.1648406e+00,\n",
       "         5.4073679e-01],\n",
       "       [ 9.3394332e-02,  1.1814069e-02,  4.6810678e-01, -1.6967791e+00,\n",
       "         1.2190571e+00],\n",
       "       [ 2.0000000e+00,  3.0000000e+00,  5.0000000e+00,  7.0000000e+00,\n",
       "         1.1000000e+01],\n",
       "       [ 1.3000000e+01,  1.7000000e+01,  1.9000000e+01,  2.3000000e+01,\n",
       "         2.9000000e+01],\n",
       "       [ 3.1000000e+01,  3.7000000e+01,  4.1000000e+01,  4.3000000e+01,\n",
       "         4.7000000e+01],\n",
       "       [ 5.3000000e+01,  5.9000000e+01,  6.1000000e+01,  6.7000000e+01,\n",
       "         7.1000000e+01],\n",
       "       [ 7.3000000e+01,  7.9000000e+01,  8.3000000e+01,  8.9000000e+01,\n",
       "         9.7000000e+01]], dtype=float32)>"
      ]
     },
     "execution_count": 40,
     "metadata": {},
     "output_type": "execute_result"
    }
   ],
   "source": [
    "concat_random_prime = tf.concat([random_tensor, prime_tensor], axis = 0)\n",
    "concat_random_prime"
   ]
  },
  {
   "cell_type": "markdown",
   "metadata": {},
   "source": [
    "## Menampilkan hasil sorting dari variable random_tensor dan prime_tensor (descending)"
   ]
  },
  {
   "cell_type": "markdown",
   "metadata": {},
   "source": [
    "### Hasil Sorting dari Variable Random Tensor"
   ]
  },
  {
   "cell_type": "code",
   "execution_count": 41,
   "metadata": {},
   "outputs": [
    {
     "name": "stdout",
     "output_type": "stream",
     "text": [
      "HASIL SORTING SECARA DESCENDING DARI VARIABLE RANDOM_TENSOR\n"
     ]
    },
    {
     "data": {
      "text/plain": [
       "<tf.Tensor: shape=(5, 5), dtype=float32, numpy=\n",
       "array([[ 1.8465339 ,  1.597991  ,  0.0963703 , -0.12318193, -0.67041796],\n",
       "       [ 0.6523249 ,  0.27330887,  0.11057873, -1.126465  , -1.1308109 ],\n",
       "       [ 0.09594551,  0.07544427, -0.13150178, -1.4917278 , -2.057799  ],\n",
       "       [ 0.5407368 ,  0.09797065, -0.48587888, -1.1648406 , -2.1942267 ],\n",
       "       [ 1.2190571 ,  0.46810678,  0.09339433,  0.01181407, -1.6967791 ]],\n",
       "      dtype=float32)>"
      ]
     },
     "execution_count": 41,
     "metadata": {},
     "output_type": "execute_result"
    }
   ],
   "source": [
    "print(\"HASIL SORTING SECARA DESCENDING DARI VARIABLE RANDOM_TENSOR\")\n",
    "random_tensor_descending = tf.sort(random_tensor, direction = \"DESCENDING\")\n",
    "random_tensor_descending"
   ]
  },
  {
   "cell_type": "markdown",
   "metadata": {},
   "source": [
    "### Hasil Sorting dari Variable Prime Tensor"
   ]
  },
  {
   "cell_type": "code",
   "execution_count": 42,
   "metadata": {},
   "outputs": [
    {
     "name": "stdout",
     "output_type": "stream",
     "text": [
      "HASIL SORTING SECARA DESCENDING DARI VARIABLE PRIME_TENSOR\n"
     ]
    },
    {
     "data": {
      "text/plain": [
       "<tf.Tensor: shape=(5, 5), dtype=float32, numpy=\n",
       "array([[11.,  7.,  5.,  3.,  2.],\n",
       "       [29., 23., 19., 17., 13.],\n",
       "       [47., 43., 41., 37., 31.],\n",
       "       [71., 67., 61., 59., 53.],\n",
       "       [97., 89., 83., 79., 73.]], dtype=float32)>"
      ]
     },
     "execution_count": 42,
     "metadata": {},
     "output_type": "execute_result"
    }
   ],
   "source": [
    "print(\"HASIL SORTING SECARA DESCENDING DARI VARIABLE PRIME_TENSOR\")\n",
    "prime_tensor_descending = tf.sort(prime_tensor, direction = \"DESCENDING\")\n",
    "prime_tensor_descending"
   ]
  }
 ],
 "metadata": {
  "kernelspec": {
   "display_name": "Python 3.10.7 64-bit",
   "language": "python",
   "name": "python3"
  },
  "language_info": {
   "codemirror_mode": {
    "name": "ipython",
    "version": 3
   },
   "file_extension": ".py",
   "mimetype": "text/x-python",
   "name": "python",
   "nbconvert_exporter": "python",
   "pygments_lexer": "ipython3",
   "version": "3.10.7"
  },
  "vscode": {
   "interpreter": {
    "hash": "27f6fea6f47ae512550f0b8facdbd035a93e1dd89633f7bf2dd00a2502c71d0d"
   }
  }
 },
 "nbformat": 4,
 "nbformat_minor": 4
}
