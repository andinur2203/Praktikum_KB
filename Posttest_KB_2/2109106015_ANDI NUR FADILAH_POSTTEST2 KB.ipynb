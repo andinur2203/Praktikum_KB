{
  "metadata": {
    "language_info": {
      "codemirror_mode": {
        "name": "python",
        "version": 3
      },
      "file_extension": ".py",
      "mimetype": "text/x-python",
      "name": "python",
      "nbconvert_exporter": "python",
      "pygments_lexer": "ipython3",
      "version": "3.8"
    },
    "kernelspec": {
      "name": "python",
      "display_name": "Python (Pyodide)",
      "language": "python"
    }
  },
  "nbformat_minor": 4,
  "nbformat": 4,
  "cells": [
    {
      "cell_type": "markdown",
      "source": "# Posttest KB 2: EDA dan Dataset\n## Import library Pandas dan Numpy\n\ndf = pd.read_csv(\"Top 2000 Universities of the World.csv\"); berfungsi untuk membaca dataset pada file CSV.",
      "metadata": {}
    },
    {
      "cell_type": "code",
      "source": "import numpy as np\nimport pandas as pd\ndf = pd.read_csv(\"Top 2000 Universities of the World.csv\")\ndf.head(5)",
      "metadata": {
        "trusted": true
      },
      "execution_count": 1,
      "outputs": [
        {
          "execution_count": 1,
          "output_type": "execute_result",
          "data": {
            "text/plain": "   World Rank                            Institution         Country  \\\n0           1                     Harvard University             USA   \n1           2  Massachusetts Institute of Technology             USA   \n2           3                    Stanford University             USA   \n3           4                University of Cambridge  United Kingdom   \n4           5                   University of Oxford  United Kingdom   \n\n   National Rank Quality of Education Rank Alumni Employment Rank  \\\n0              1                         1                      1   \n1              2                         4                     12   \n2              3                        10                      4   \n3              1                         3                     25   \n4              2                         7                     27   \n\n  Quality of Faculty Rank Research Performance Rank  Score  \n0                       1                         1  100.0  \n1                       2                         8   96.7  \n2                       3                         2   95.1  \n3                       4                        10   94.1  \n4                       9                         4   93.3  ",
            "text/html": "<div>\n<style scoped>\n    .dataframe tbody tr th:only-of-type {\n        vertical-align: middle;\n    }\n\n    .dataframe tbody tr th {\n        vertical-align: top;\n    }\n\n    .dataframe thead th {\n        text-align: right;\n    }\n</style>\n<table border=\"1\" class=\"dataframe\">\n  <thead>\n    <tr style=\"text-align: right;\">\n      <th></th>\n      <th>World Rank</th>\n      <th>Institution</th>\n      <th>Country</th>\n      <th>National Rank</th>\n      <th>Quality of Education Rank</th>\n      <th>Alumni Employment Rank</th>\n      <th>Quality of Faculty Rank</th>\n      <th>Research Performance Rank</th>\n      <th>Score</th>\n    </tr>\n  </thead>\n  <tbody>\n    <tr>\n      <th>0</th>\n      <td>1</td>\n      <td>Harvard University</td>\n      <td>USA</td>\n      <td>1</td>\n      <td>1</td>\n      <td>1</td>\n      <td>1</td>\n      <td>1</td>\n      <td>100.0</td>\n    </tr>\n    <tr>\n      <th>1</th>\n      <td>2</td>\n      <td>Massachusetts Institute of Technology</td>\n      <td>USA</td>\n      <td>2</td>\n      <td>4</td>\n      <td>12</td>\n      <td>2</td>\n      <td>8</td>\n      <td>96.7</td>\n    </tr>\n    <tr>\n      <th>2</th>\n      <td>3</td>\n      <td>Stanford University</td>\n      <td>USA</td>\n      <td>3</td>\n      <td>10</td>\n      <td>4</td>\n      <td>3</td>\n      <td>2</td>\n      <td>95.1</td>\n    </tr>\n    <tr>\n      <th>3</th>\n      <td>4</td>\n      <td>University of Cambridge</td>\n      <td>United Kingdom</td>\n      <td>1</td>\n      <td>3</td>\n      <td>25</td>\n      <td>4</td>\n      <td>10</td>\n      <td>94.1</td>\n    </tr>\n    <tr>\n      <th>4</th>\n      <td>5</td>\n      <td>University of Oxford</td>\n      <td>United Kingdom</td>\n      <td>2</td>\n      <td>7</td>\n      <td>27</td>\n      <td>9</td>\n      <td>4</td>\n      <td>93.3</td>\n    </tr>\n  </tbody>\n</table>\n</div>"
          },
          "metadata": {}
        }
      ]
    },
    {
      "cell_type": "markdown",
      "source": "# Ketentuan 1 Posttest 2\n## Informasi yang didapatkan adalah jumlah record, nama attribute, jumlah attribute dengan tipe objek, jumlah attribute dengan tipe angka, jumlah attribute yang memiliki nilai null.\n\ndf.shape = untuk mengetahui jumlah record\n\ndf.colums = untuk mengetahui jumlah nama atribut\n\ndf.select_dtypes(include=object).columns = untuk mengetahui jumlah attribute dengan tipe objek\n\ndf.select_dtypes(include=np.number).columns = untuk mengetahui jumlah attribute dengan tipe angka\n\ndf.isna().any() = untuk mengetahui apakah terdapat attribute yang memiliki nilai null\n\ndf.loc[:, null].columns = untuk menampilkan kolom sesuai lokasi yang ditentukan",
      "metadata": {}
    },
    {
      "cell_type": "code",
      "source": "record = df.shape[0]\natribut = df.columns\nobjek = df.select_dtypes(include=object).columns\nangka = df.select_dtypes(include=np.number).columns\nnull = df.isna().any()\nnilai_null = df.loc[:, null].columns",
      "metadata": {
        "trusted": true
      },
      "execution_count": 2,
      "outputs": []
    },
    {
      "cell_type": "markdown",
      "source": "# Ketentuan 2 Posttest 2\n## Masukkan informasi di atas dalam dictionary dengan key sesuai nama informasinya. Tampilkan isi dari dictionary tersebut sebagus mungkin.",
      "metadata": {}
    },
    {
      "cell_type": "code",
      "source": "info = {\n    'jumlah_record':record,\n    'nama_atribut':atribut,\n    'atribut_objek':objek,\n    'atribut_angka':angka,\n    'atribut_null':nilai_null\n}\n\nprint(\"Jumlah Record \\t\\t\\t\\t:\", info['jumlah_record'])\nprint(\"Jumlah Nama Atribut \\t\\t\\t:\", len(info['nama_atribut']))\nprint(\"Jumlah Atribut dengan Tipe Objek \\t:\", len(info['atribut_objek']))\nprint(\"Jumlah Atribut dengan Tipe Angka \\t:\", len(info['atribut_angka']))\nprint(\"Jumlah Atribut yang Memiliki Nilai Null :\", len(info['atribut_null']))\nprint(\" \")\nprint(\"=====================================================\")\nprint(\"                      Posttest 2                     \")\nprint(\"      Menampilkan isi Dictionary dari Ketentuan 1    \")\nprint(\"=====================================================\")\n\nprint(\"Informasi 1\\n\\nJumlah Record pada DATASET               : \", info.get('jumlah_record'))\nprint(\"=====================================================\")\nprint(\"Informasi 2\\n\\nJumlah Nama Atribut pada DATASET         : \")\nfor i in range (len(info[\"nama_atribut\"])):\n    print(info[\"nama_atribut\"][i])\n    i+=1\nprint(\"=====================================================\")\nprint(\"Informasi 3\\n\\nJumlah Atribut dengan Tipe Objek         : \", len(info['atribut_objek']))\nprint(\"=====================================================\")\nprint(\"Informasi 4\\n\\nJumlah Atribut dengan Tipe Angka         : \", len(info['atribut_angka']))\nprint(\"=====================================================\")\nprint(\"Informasi 5\\n\\nJumlah Atribut yang Memiliki Nilai Null  : \", len(info['atribut_null']))\nprint(\"-----------------------------------------------------\")",
      "metadata": {
        "trusted": true
      },
      "execution_count": 4,
      "outputs": [
        {
          "name": "stdout",
          "text": "Jumlah Record \t\t\t\t: 2000\nJumlah Nama Atribut \t\t\t: 9\nJumlah Atribut dengan Tipe Objek \t: 6\nJumlah Atribut dengan Tipe Angka \t: 3\nJumlah Atribut yang Memiliki Nilai Null : 0\n \n=====================================================\n                      Posttest 2                     \n      Menampilkan isi Dictionary dari Ketentuan 1    \n=====================================================\nInformasi 1\n\nJumlah Record pada DATASET               :  2000\n=====================================================\nInformasi 2\n\nJumlah Nama Atribut pada DATASET         : \nWorld Rank\nInstitution\nCountry\nNational Rank\nQuality of Education Rank\nAlumni Employment Rank\nQuality of Faculty Rank\nResearch Performance Rank\nScore\n=====================================================\nInformasi 3\n\nJumlah Atribut dengan Tipe Objek         :  6\n=====================================================\nInformasi 4\n\nJumlah Atribut dengan Tipe Angka         :  3\n=====================================================\nInformasi 5\n\nJumlah Atribut yang Memiliki Nilai Null  :  0\n-----------------------------------------------------\n",
          "output_type": "stream"
        }
      ]
    },
    {
      "cell_type": "markdown",
      "source": "# Ketentuan 3 Posttest 2\n## Menampilkan rata - rata, standar deviasi, nilai minimum, nilai maksimum, Q1, Q2, dan Q3 dari attribute bertipe angka.",
      "metadata": {}
    },
    {
      "cell_type": "code",
      "source": "df.describe(include=[np.number])",
      "metadata": {
        "trusted": true
      },
      "execution_count": 43,
      "outputs": [
        {
          "execution_count": 43,
          "output_type": "execute_result",
          "data": {
            "text/plain": "        World Rank  National Rank        Score\ncount  2000.000000    2000.000000  2000.000000\nmean   1000.500000      67.523000    71.586450\nstd     577.494589      83.128615     5.079795\nmin       1.000000       1.000000    65.700000\n25%     500.750000      10.000000    67.700000\n50%    1000.500000      33.000000    70.200000\n75%    1500.250000      86.000000    74.100000\nmax    2000.000000     347.000000   100.000000",
            "text/html": "<div>\n<style scoped>\n    .dataframe tbody tr th:only-of-type {\n        vertical-align: middle;\n    }\n\n    .dataframe tbody tr th {\n        vertical-align: top;\n    }\n\n    .dataframe thead th {\n        text-align: right;\n    }\n</style>\n<table border=\"1\" class=\"dataframe\">\n  <thead>\n    <tr style=\"text-align: right;\">\n      <th></th>\n      <th>World Rank</th>\n      <th>National Rank</th>\n      <th>Score</th>\n    </tr>\n  </thead>\n  <tbody>\n    <tr>\n      <th>count</th>\n      <td>2000.000000</td>\n      <td>2000.000000</td>\n      <td>2000.000000</td>\n    </tr>\n    <tr>\n      <th>mean</th>\n      <td>1000.500000</td>\n      <td>67.523000</td>\n      <td>71.586450</td>\n    </tr>\n    <tr>\n      <th>std</th>\n      <td>577.494589</td>\n      <td>83.128615</td>\n      <td>5.079795</td>\n    </tr>\n    <tr>\n      <th>min</th>\n      <td>1.000000</td>\n      <td>1.000000</td>\n      <td>65.700000</td>\n    </tr>\n    <tr>\n      <th>25%</th>\n      <td>500.750000</td>\n      <td>10.000000</td>\n      <td>67.700000</td>\n    </tr>\n    <tr>\n      <th>50%</th>\n      <td>1000.500000</td>\n      <td>33.000000</td>\n      <td>70.200000</td>\n    </tr>\n    <tr>\n      <th>75%</th>\n      <td>1500.250000</td>\n      <td>86.000000</td>\n      <td>74.100000</td>\n    </tr>\n    <tr>\n      <th>max</th>\n      <td>2000.000000</td>\n      <td>347.000000</td>\n      <td>100.000000</td>\n    </tr>\n  </tbody>\n</table>\n</div>"
          },
          "metadata": {}
        }
      ]
    },
    {
      "cell_type": "markdown",
      "source": "# Ketentuan 4 Posttest 2\n## Menampilkan nilai korelasi attribute bertipe angka.",
      "metadata": {}
    },
    {
      "cell_type": "code",
      "source": "print (df.corr())",
      "metadata": {
        "trusted": true
      },
      "execution_count": 7,
      "outputs": [
        {
          "name": "stdout",
          "text": "               World Rank  National Rank     Score\nWorld Rank        1.00000       0.344200 -0.916950\nNational Rank     0.34420       1.000000 -0.329112\nScore            -0.91695      -0.329112  1.000000\n",
          "output_type": "stream"
        }
      ]
    },
    {
      "cell_type": "markdown",
      "source": "# Ketentuan 5 Posttest 2\n## Mengubah nilai salah satu attribute bertipe angka (Score) menjadi bilangan bulat",
      "metadata": {}
    },
    {
      "cell_type": "code",
      "source": "df = df.fillna(0)\ndf.Score = df.Score.astype(int)\ndf.head(10)",
      "metadata": {
        "trusted": true
      },
      "execution_count": 8,
      "outputs": [
        {
          "execution_count": 8,
          "output_type": "execute_result",
          "data": {
            "text/plain": "   World Rank                            Institution         Country  \\\n0           1                     Harvard University             USA   \n1           2  Massachusetts Institute of Technology             USA   \n2           3                    Stanford University             USA   \n3           4                University of Cambridge  United Kingdom   \n4           5                   University of Oxford  United Kingdom   \n5           6                   Princeton University             USA   \n6           7                    Columbia University             USA   \n7           8                  University of Chicago             USA   \n8           9             University of Pennsylvania             USA   \n9          10                        Yale University             USA   \n\n   National Rank Quality of Education Rank Alumni Employment Rank  \\\n0              1                         1                      1   \n1              2                         4                     12   \n2              3                        10                      4   \n3              1                         3                     25   \n4              2                         7                     27   \n5              4                         5                     15   \n6              5                        11                     14   \n7              6                         8                     16   \n8              7                        14                     10   \n9              8                         6                     36   \n\n  Quality of Faculty Rank Research Performance Rank  Score  \n0                       1                         1    100  \n1                       2                         8     96  \n2                       3                         2     95  \n3                       4                        10     94  \n4                       9                         4     93  \n5                       7                        70     92  \n6                      10                        15     92  \n7                      27                        22     91  \n8                      42                        12     91  \n9                      13                        20     90  ",
            "text/html": "<div>\n<style scoped>\n    .dataframe tbody tr th:only-of-type {\n        vertical-align: middle;\n    }\n\n    .dataframe tbody tr th {\n        vertical-align: top;\n    }\n\n    .dataframe thead th {\n        text-align: right;\n    }\n</style>\n<table border=\"1\" class=\"dataframe\">\n  <thead>\n    <tr style=\"text-align: right;\">\n      <th></th>\n      <th>World Rank</th>\n      <th>Institution</th>\n      <th>Country</th>\n      <th>National Rank</th>\n      <th>Quality of Education Rank</th>\n      <th>Alumni Employment Rank</th>\n      <th>Quality of Faculty Rank</th>\n      <th>Research Performance Rank</th>\n      <th>Score</th>\n    </tr>\n  </thead>\n  <tbody>\n    <tr>\n      <th>0</th>\n      <td>1</td>\n      <td>Harvard University</td>\n      <td>USA</td>\n      <td>1</td>\n      <td>1</td>\n      <td>1</td>\n      <td>1</td>\n      <td>1</td>\n      <td>100</td>\n    </tr>\n    <tr>\n      <th>1</th>\n      <td>2</td>\n      <td>Massachusetts Institute of Technology</td>\n      <td>USA</td>\n      <td>2</td>\n      <td>4</td>\n      <td>12</td>\n      <td>2</td>\n      <td>8</td>\n      <td>96</td>\n    </tr>\n    <tr>\n      <th>2</th>\n      <td>3</td>\n      <td>Stanford University</td>\n      <td>USA</td>\n      <td>3</td>\n      <td>10</td>\n      <td>4</td>\n      <td>3</td>\n      <td>2</td>\n      <td>95</td>\n    </tr>\n    <tr>\n      <th>3</th>\n      <td>4</td>\n      <td>University of Cambridge</td>\n      <td>United Kingdom</td>\n      <td>1</td>\n      <td>3</td>\n      <td>25</td>\n      <td>4</td>\n      <td>10</td>\n      <td>94</td>\n    </tr>\n    <tr>\n      <th>4</th>\n      <td>5</td>\n      <td>University of Oxford</td>\n      <td>United Kingdom</td>\n      <td>2</td>\n      <td>7</td>\n      <td>27</td>\n      <td>9</td>\n      <td>4</td>\n      <td>93</td>\n    </tr>\n    <tr>\n      <th>5</th>\n      <td>6</td>\n      <td>Princeton University</td>\n      <td>USA</td>\n      <td>4</td>\n      <td>5</td>\n      <td>15</td>\n      <td>7</td>\n      <td>70</td>\n      <td>92</td>\n    </tr>\n    <tr>\n      <th>6</th>\n      <td>7</td>\n      <td>Columbia University</td>\n      <td>USA</td>\n      <td>5</td>\n      <td>11</td>\n      <td>14</td>\n      <td>10</td>\n      <td>15</td>\n      <td>92</td>\n    </tr>\n    <tr>\n      <th>7</th>\n      <td>8</td>\n      <td>University of Chicago</td>\n      <td>USA</td>\n      <td>6</td>\n      <td>8</td>\n      <td>16</td>\n      <td>27</td>\n      <td>22</td>\n      <td>91</td>\n    </tr>\n    <tr>\n      <th>8</th>\n      <td>9</td>\n      <td>University of Pennsylvania</td>\n      <td>USA</td>\n      <td>7</td>\n      <td>14</td>\n      <td>10</td>\n      <td>42</td>\n      <td>12</td>\n      <td>91</td>\n    </tr>\n    <tr>\n      <th>9</th>\n      <td>10</td>\n      <td>Yale University</td>\n      <td>USA</td>\n      <td>8</td>\n      <td>6</td>\n      <td>36</td>\n      <td>13</td>\n      <td>20</td>\n      <td>90</td>\n    </tr>\n  </tbody>\n</table>\n</div>"
          },
          "metadata": {}
        }
      ]
    },
    {
      "cell_type": "markdown",
      "source": "# Ketentuan 6 Posttest 2\n## Menampilkan 10 record pertama dari attribute bertipe angka.",
      "metadata": {}
    },
    {
      "cell_type": "code",
      "source": "df[['World Rank', 'National Rank', 'Score']].head(10)",
      "metadata": {
        "trusted": true
      },
      "execution_count": 9,
      "outputs": [
        {
          "execution_count": 9,
          "output_type": "execute_result",
          "data": {
            "text/plain": "   World Rank  National Rank  Score\n0           1              1    100\n1           2              2     96\n2           3              3     95\n3           4              1     94\n4           5              2     93\n5           6              4     92\n6           7              5     92\n7           8              6     91\n8           9              7     91\n9          10              8     90",
            "text/html": "<div>\n<style scoped>\n    .dataframe tbody tr th:only-of-type {\n        vertical-align: middle;\n    }\n\n    .dataframe tbody tr th {\n        vertical-align: top;\n    }\n\n    .dataframe thead th {\n        text-align: right;\n    }\n</style>\n<table border=\"1\" class=\"dataframe\">\n  <thead>\n    <tr style=\"text-align: right;\">\n      <th></th>\n      <th>World Rank</th>\n      <th>National Rank</th>\n      <th>Score</th>\n    </tr>\n  </thead>\n  <tbody>\n    <tr>\n      <th>0</th>\n      <td>1</td>\n      <td>1</td>\n      <td>100</td>\n    </tr>\n    <tr>\n      <th>1</th>\n      <td>2</td>\n      <td>2</td>\n      <td>96</td>\n    </tr>\n    <tr>\n      <th>2</th>\n      <td>3</td>\n      <td>3</td>\n      <td>95</td>\n    </tr>\n    <tr>\n      <th>3</th>\n      <td>4</td>\n      <td>1</td>\n      <td>94</td>\n    </tr>\n    <tr>\n      <th>4</th>\n      <td>5</td>\n      <td>2</td>\n      <td>93</td>\n    </tr>\n    <tr>\n      <th>5</th>\n      <td>6</td>\n      <td>4</td>\n      <td>92</td>\n    </tr>\n    <tr>\n      <th>6</th>\n      <td>7</td>\n      <td>5</td>\n      <td>92</td>\n    </tr>\n    <tr>\n      <th>7</th>\n      <td>8</td>\n      <td>6</td>\n      <td>91</td>\n    </tr>\n    <tr>\n      <th>8</th>\n      <td>9</td>\n      <td>7</td>\n      <td>91</td>\n    </tr>\n    <tr>\n      <th>9</th>\n      <td>10</td>\n      <td>8</td>\n      <td>90</td>\n    </tr>\n  </tbody>\n</table>\n</div>"
          },
          "metadata": {}
        }
      ]
    },
    {
      "cell_type": "markdown",
      "source": "# Ketentuan 7 Posttest 2\n## Simpan dataset dengan attribute bertipe angka ke dalam file CSV.",
      "metadata": {}
    },
    {
      "cell_type": "code",
      "source": "df[['World Rank', 'National Rank', 'Score']].to_csv(\"Top 2000 University of the World.csv\")",
      "metadata": {
        "trusted": true
      },
      "execution_count": 10,
      "outputs": []
    }
  ]
}