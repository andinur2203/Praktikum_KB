{
  "metadata": {
    "kernelspec": {
      "name": "python",
      "display_name": "Python (Pyodide)",
      "language": "python"
    },
    "language_info": {
      "codemirror_mode": {
        "name": "python",
        "version": 3
      },
      "file_extension": ".py",
      "mimetype": "text/x-python",
      "name": "python",
      "nbconvert_exporter": "python",
      "pygments_lexer": "ipython3",
      "version": "3.8"
    },
    "vscode": {
      "interpreter": {
        "hash": "27f6fea6f47ae512550f0b8facdbd035a93e1dd89633f7bf2dd00a2502c71d0d"
      }
    }
  },
  "nbformat_minor": 4,
  "nbformat": 4,
  "cells": [
    {
      "cell_type": "markdown",
      "source": "# POSTTEST 4 KB\n## Data Preprocessing\n## Nama  : ANDI NUR FADILAH\n## NIM   : 2109106015\n## Kelas : INFORMATIKA A 2021",
      "metadata": {}
    },
    {
      "cell_type": "markdown",
      "source": "## Mengimport library yang digunakan",
      "metadata": {}
    },
    {
      "cell_type": "code",
      "source": "import pandas as pd\nimport numpy as np\nfrom sklearn.model_selection import train_test_split",
      "metadata": {
        "trusted": true
      },
      "execution_count": 36,
      "outputs": []
    },
    {
      "cell_type": "markdown",
      "source": "## Menampilkan 10 data pertama dengan fungsi head().",
      "metadata": {}
    },
    {
      "cell_type": "code",
      "source": "dataset_split = pd.read_csv(\"Penyebab Kematian di Indonesia yang Dilaporkan.csv\")\ndataset_split.head()",
      "metadata": {
        "trusted": true
      },
      "execution_count": 37,
      "outputs": [
        {
          "execution_count": 37,
          "output_type": "execute_result",
          "data": {
            "text/plain": "             Cause                           Type  Year  Data Redundancy  \\\n0  Abrasi Air Laut                   Bencana Alam  2012                1   \n1             AIDS  Bencana Non Alam dan Penyakit  2000                1   \n2             AIDS  Bencana Non Alam dan Penyakit  2001                1   \n3             AIDS  Bencana Non Alam dan Penyakit  2002                1   \n4             AIDS  Bencana Non Alam dan Penyakit  2003                1   \n\n   Total Deaths                                 Source Page at Source  \\\n0             0  Profil Kesehatan Indonesia Tahun 2012  Lampiran 3.38   \n1            47  Profil Kesehatan Indonesia Tahun 2004             78   \n2            99  Profil Kesehatan Indonesia Tahun 2004             78   \n3           100  Profil Kesehatan Indonesia Tahun 2004             78   \n4           261  Profil Kesehatan Indonesia Tahun 2010            115   \n\n                                          Source URL  \n0  https://pusdatin.kemkes.go.id/download.php?fil...  \n1  https://pusdatin.kemkes.go.id/download.php?fil...  \n2  https://pusdatin.kemkes.go.id/download.php?fil...  \n3  https://pusdatin.kemkes.go.id/download.php?fil...  \n4  https://pusdatin.kemkes.go.id/download.php?fil...  ",
            "text/html": "<div>\n<style scoped>\n    .dataframe tbody tr th:only-of-type {\n        vertical-align: middle;\n    }\n\n    .dataframe tbody tr th {\n        vertical-align: top;\n    }\n\n    .dataframe thead th {\n        text-align: right;\n    }\n</style>\n<table border=\"1\" class=\"dataframe\">\n  <thead>\n    <tr style=\"text-align: right;\">\n      <th></th>\n      <th>Cause</th>\n      <th>Type</th>\n      <th>Year</th>\n      <th>Data Redundancy</th>\n      <th>Total Deaths</th>\n      <th>Source</th>\n      <th>Page at Source</th>\n      <th>Source URL</th>\n    </tr>\n  </thead>\n  <tbody>\n    <tr>\n      <th>0</th>\n      <td>Abrasi Air Laut</td>\n      <td>Bencana Alam</td>\n      <td>2012</td>\n      <td>1</td>\n      <td>0</td>\n      <td>Profil Kesehatan Indonesia Tahun 2012</td>\n      <td>Lampiran 3.38</td>\n      <td>https://pusdatin.kemkes.go.id/download.php?fil...</td>\n    </tr>\n    <tr>\n      <th>1</th>\n      <td>AIDS</td>\n      <td>Bencana Non Alam dan Penyakit</td>\n      <td>2000</td>\n      <td>1</td>\n      <td>47</td>\n      <td>Profil Kesehatan Indonesia Tahun 2004</td>\n      <td>78</td>\n      <td>https://pusdatin.kemkes.go.id/download.php?fil...</td>\n    </tr>\n    <tr>\n      <th>2</th>\n      <td>AIDS</td>\n      <td>Bencana Non Alam dan Penyakit</td>\n      <td>2001</td>\n      <td>1</td>\n      <td>99</td>\n      <td>Profil Kesehatan Indonesia Tahun 2004</td>\n      <td>78</td>\n      <td>https://pusdatin.kemkes.go.id/download.php?fil...</td>\n    </tr>\n    <tr>\n      <th>3</th>\n      <td>AIDS</td>\n      <td>Bencana Non Alam dan Penyakit</td>\n      <td>2002</td>\n      <td>1</td>\n      <td>100</td>\n      <td>Profil Kesehatan Indonesia Tahun 2004</td>\n      <td>78</td>\n      <td>https://pusdatin.kemkes.go.id/download.php?fil...</td>\n    </tr>\n    <tr>\n      <th>4</th>\n      <td>AIDS</td>\n      <td>Bencana Non Alam dan Penyakit</td>\n      <td>2003</td>\n      <td>1</td>\n      <td>261</td>\n      <td>Profil Kesehatan Indonesia Tahun 2010</td>\n      <td>115</td>\n      <td>https://pusdatin.kemkes.go.id/download.php?fil...</td>\n    </tr>\n  </tbody>\n</table>\n</div>"
          },
          "metadata": {}
        }
      ]
    },
    {
      "cell_type": "markdown",
      "source": "## Membaca dataset sekaligus menampilkan informasinya",
      "metadata": {}
    },
    {
      "cell_type": "code",
      "source": "dataset_split = pd.read_csv(\"Penyebab Kematian di Indonesia yang Dilaporkan.csv\")\ndataset_split.info()",
      "metadata": {
        "trusted": true
      },
      "execution_count": 38,
      "outputs": [
        {
          "name": "stdout",
          "text": "<class 'pandas.core.frame.DataFrame'>\nRangeIndex: 680 entries, 0 to 679\nData columns (total 8 columns):\n #   Column           Non-Null Count  Dtype \n---  ------           --------------  ----- \n 0   Cause            680 non-null    object\n 1   Type             680 non-null    object\n 2   Year             680 non-null    int64 \n 3   Data Redundancy  680 non-null    int64 \n 4   Total Deaths     680 non-null    int64 \n 5   Source           680 non-null    object\n 6   Page at Source   678 non-null    object\n 7   Source URL       677 non-null    object\ndtypes: int64(3), object(5)\nmemory usage: 29.3+ KB\n",
          "output_type": "stream"
        }
      ]
    },
    {
      "cell_type": "markdown",
      "source": "## Membagi Dataset menjadi Training Set dan Testing Set dengan Proporsi 70:30",
      "metadata": {}
    },
    {
      "cell_type": "code",
      "source": "X = dataset_split.iloc[:, :-1]\nY = dataset_split.iloc[:, -1]\n\nX_train, X_test, Y_train, Y_test = train_test_split(X, Y, test_size = 0.2)\nprint(\"Dimensi X_Train: \", X_train.shape)\nprint(\"Dimensi X_Test: \", X_test.shape)\nprint(\"Dimensi Y_Train: \", Y_train.shape)\nprint(\"Dimensi Y_Test: \", Y_test.shape)",
      "metadata": {
        "trusted": true
      },
      "execution_count": 39,
      "outputs": [
        {
          "name": "stdout",
          "text": "Dimensi X_Train:  (544, 7)\nDimensi X_Test:  (136, 7)\nDimensi Y_Train:  (544,)\nDimensi Y_Test:  (136,)\n",
          "output_type": "stream"
        }
      ]
    },
    {
      "cell_type": "markdown",
      "source": "## Melakukan Data Cleaning pada Nilai NULL",
      "metadata": {}
    },
    {
      "cell_type": "code",
      "source": "dataset_split = pd.read_csv(\"Penyebab Kematian di Indonesia yang Dilaporkan_rusak.csv\")\ndataset_split.head(10)",
      "metadata": {
        "trusted": true
      },
      "execution_count": 40,
      "outputs": [
        {
          "execution_count": 40,
          "output_type": "execute_result",
          "data": {
            "text/plain": "             Cause                           Type  Year  Data Redundancy  \\\n0  Abrasi Air Laut                   Bencana Alam  2012                1   \n1             AIDS  Bencana Non Alam dan Penyakit  2000                1   \n2             AIDS  Bencana Non Alam dan Penyakit  2001                1   \n3             AIDS  Bencana Non Alam dan Penyakit  2002                1   \n4             AIDS  Bencana Non Alam dan Penyakit  2003                1   \n5             AIDS  Bencana Non Alam dan Penyakit  2004                1   \n6             AIDS  Bencana Non Alam dan Penyakit  2005                1   \n7             AIDS  Bencana Non Alam dan Penyakit  2006                1   \n8             AIDS  Bencana Non Alam dan Penyakit  2007                1   \n9             AIDS  Bencana Non Alam dan Penyakit  2008                1   \n\n   Total Deaths                                 Source Page at Source  \\\n0           0.0  Profil Kesehatan Indonesia Tahun 2012  Lampiran 3.38   \n1          47.0  Profil Kesehatan Indonesia Tahun 2004             78   \n2          99.0  Profil Kesehatan Indonesia Tahun 2004             78   \n3         100.0  Profil Kesehatan Indonesia Tahun 2004             78   \n4         261.0  Profil Kesehatan Indonesia Tahun 2010            115   \n5         361.0  Profil Kesehatan Indonesia Tahun 2010            115   \n6           NaN  Profil Kesehatan Indonesia Tahun 2011            148   \n7           NaN  Profil Kesehatan Indonesia Tahun 2011            148   \n8           NaN  Profil Kesehatan Indonesia Tahun 2011            148   \n9           NaN  Profil Kesehatan Indonesia Tahun 2011            148   \n\n                                          Source URL  \n0  https://pusdatin.kemkes.go.id/download.php?fil...  \n1  https://pusdatin.kemkes.go.id/download.php?fil...  \n2  https://pusdatin.kemkes.go.id/download.php?fil...  \n3  https://pusdatin.kemkes.go.id/download.php?fil...  \n4  https://pusdatin.kemkes.go.id/download.php?fil...  \n5  https://pusdatin.kemkes.go.id/download.php?fil...  \n6  https://pusdatin.kemkes.go.id/download.php?fil...  \n7  https://pusdatin.kemkes.go.id/download.php?fil...  \n8  https://pusdatin.kemkes.go.id/download.php?fil...  \n9  https://pusdatin.kemkes.go.id/download.php?fil...  ",
            "text/html": "<div>\n<style scoped>\n    .dataframe tbody tr th:only-of-type {\n        vertical-align: middle;\n    }\n\n    .dataframe tbody tr th {\n        vertical-align: top;\n    }\n\n    .dataframe thead th {\n        text-align: right;\n    }\n</style>\n<table border=\"1\" class=\"dataframe\">\n  <thead>\n    <tr style=\"text-align: right;\">\n      <th></th>\n      <th>Cause</th>\n      <th>Type</th>\n      <th>Year</th>\n      <th>Data Redundancy</th>\n      <th>Total Deaths</th>\n      <th>Source</th>\n      <th>Page at Source</th>\n      <th>Source URL</th>\n    </tr>\n  </thead>\n  <tbody>\n    <tr>\n      <th>0</th>\n      <td>Abrasi Air Laut</td>\n      <td>Bencana Alam</td>\n      <td>2012</td>\n      <td>1</td>\n      <td>0.0</td>\n      <td>Profil Kesehatan Indonesia Tahun 2012</td>\n      <td>Lampiran 3.38</td>\n      <td>https://pusdatin.kemkes.go.id/download.php?fil...</td>\n    </tr>\n    <tr>\n      <th>1</th>\n      <td>AIDS</td>\n      <td>Bencana Non Alam dan Penyakit</td>\n      <td>2000</td>\n      <td>1</td>\n      <td>47.0</td>\n      <td>Profil Kesehatan Indonesia Tahun 2004</td>\n      <td>78</td>\n      <td>https://pusdatin.kemkes.go.id/download.php?fil...</td>\n    </tr>\n    <tr>\n      <th>2</th>\n      <td>AIDS</td>\n      <td>Bencana Non Alam dan Penyakit</td>\n      <td>2001</td>\n      <td>1</td>\n      <td>99.0</td>\n      <td>Profil Kesehatan Indonesia Tahun 2004</td>\n      <td>78</td>\n      <td>https://pusdatin.kemkes.go.id/download.php?fil...</td>\n    </tr>\n    <tr>\n      <th>3</th>\n      <td>AIDS</td>\n      <td>Bencana Non Alam dan Penyakit</td>\n      <td>2002</td>\n      <td>1</td>\n      <td>100.0</td>\n      <td>Profil Kesehatan Indonesia Tahun 2004</td>\n      <td>78</td>\n      <td>https://pusdatin.kemkes.go.id/download.php?fil...</td>\n    </tr>\n    <tr>\n      <th>4</th>\n      <td>AIDS</td>\n      <td>Bencana Non Alam dan Penyakit</td>\n      <td>2003</td>\n      <td>1</td>\n      <td>261.0</td>\n      <td>Profil Kesehatan Indonesia Tahun 2010</td>\n      <td>115</td>\n      <td>https://pusdatin.kemkes.go.id/download.php?fil...</td>\n    </tr>\n    <tr>\n      <th>5</th>\n      <td>AIDS</td>\n      <td>Bencana Non Alam dan Penyakit</td>\n      <td>2004</td>\n      <td>1</td>\n      <td>361.0</td>\n      <td>Profil Kesehatan Indonesia Tahun 2010</td>\n      <td>115</td>\n      <td>https://pusdatin.kemkes.go.id/download.php?fil...</td>\n    </tr>\n    <tr>\n      <th>6</th>\n      <td>AIDS</td>\n      <td>Bencana Non Alam dan Penyakit</td>\n      <td>2005</td>\n      <td>1</td>\n      <td>NaN</td>\n      <td>Profil Kesehatan Indonesia Tahun 2011</td>\n      <td>148</td>\n      <td>https://pusdatin.kemkes.go.id/download.php?fil...</td>\n    </tr>\n    <tr>\n      <th>7</th>\n      <td>AIDS</td>\n      <td>Bencana Non Alam dan Penyakit</td>\n      <td>2006</td>\n      <td>1</td>\n      <td>NaN</td>\n      <td>Profil Kesehatan Indonesia Tahun 2011</td>\n      <td>148</td>\n      <td>https://pusdatin.kemkes.go.id/download.php?fil...</td>\n    </tr>\n    <tr>\n      <th>8</th>\n      <td>AIDS</td>\n      <td>Bencana Non Alam dan Penyakit</td>\n      <td>2007</td>\n      <td>1</td>\n      <td>NaN</td>\n      <td>Profil Kesehatan Indonesia Tahun 2011</td>\n      <td>148</td>\n      <td>https://pusdatin.kemkes.go.id/download.php?fil...</td>\n    </tr>\n    <tr>\n      <th>9</th>\n      <td>AIDS</td>\n      <td>Bencana Non Alam dan Penyakit</td>\n      <td>2008</td>\n      <td>1</td>\n      <td>NaN</td>\n      <td>Profil Kesehatan Indonesia Tahun 2011</td>\n      <td>148</td>\n      <td>https://pusdatin.kemkes.go.id/download.php?fil...</td>\n    </tr>\n  </tbody>\n</table>\n</div>"
          },
          "metadata": {}
        }
      ]
    },
    {
      "cell_type": "code",
      "source": "# Mengecek atribut mana yang memiliki Nilai NULL\ndataset_split.isna().sum()",
      "metadata": {
        "trusted": true
      },
      "execution_count": 41,
      "outputs": [
        {
          "execution_count": 41,
          "output_type": "execute_result",
          "data": {
            "text/plain": "Cause               0\nType                0\nYear                0\nData Redundancy     0\nTotal Deaths       12\nSource              0\nPage at Source      2\nSource URL          3\ndtype: int64"
          },
          "metadata": {}
        }
      ]
    },
    {
      "cell_type": "markdown",
      "source": "## Menangani Nilai NULL pada salah satu Atribut yaitu Total Deaths",
      "metadata": {}
    },
    {
      "cell_type": "code",
      "source": "from sklearn.impute import SimpleImputer\nimputer = SimpleImputer(strategy=\"mean\")  \ndataset_split[\"Total Deaths\"] = imputer.fit_transform(dataset_split[[\"Total Deaths\"]])",
      "metadata": {
        "trusted": true
      },
      "execution_count": 42,
      "outputs": []
    },
    {
      "cell_type": "code",
      "source": "# Mengecek Nilai NULL pada Atribut Total Deaths\ndataset_split.isna().sum()",
      "metadata": {
        "trusted": true
      },
      "execution_count": 43,
      "outputs": [
        {
          "execution_count": 43,
          "output_type": "execute_result",
          "data": {
            "text/plain": "Cause              0\nType               0\nYear               0\nData Redundancy    0\nTotal Deaths       0\nSource             0\nPage at Source     2\nSource URL         3\ndtype: int64"
          },
          "metadata": {}
        }
      ]
    },
    {
      "cell_type": "markdown",
      "source": "## Melakukan Data Cleaning pada Nilai Duplikat",
      "metadata": {}
    },
    {
      "cell_type": "code",
      "source": "dataset_split[dataset_split.duplicated()]",
      "metadata": {
        "trusted": true
      },
      "execution_count": 44,
      "outputs": [
        {
          "execution_count": 44,
          "output_type": "execute_result",
          "data": {
            "text/plain": "                                      Cause                           Type  \\\n618  Persalinan dengan penyulit gawat janin  Bencana Non Alam dan Penyakit   \n619  Persalinan dengan penyulit gawat janin  Bencana Non Alam dan Penyakit   \n620  Persalinan dengan penyulit gawat janin  Bencana Non Alam dan Penyakit   \n621                     Persalinan prematur  Bencana Non Alam dan Penyakit   \n622                     Persalinan prematur  Bencana Non Alam dan Penyakit   \n\n     Year  Data Redundancy  Total Deaths  \\\n618  2004                1          11.0   \n619  2005                1           8.0   \n620  2006                1          11.0   \n621  2004                1          23.0   \n622  2005                1          31.0   \n\n                                    Source Page at Source  \\\n618  Profil Kesehatan Indonesia Tahun 2004             19   \n619  Profil Kesehatan Indonesia Tahun 2005             20   \n620  Profil Kesehatan Indonesia Tahun 2006             24   \n621  Profil Kesehatan Indonesia Tahun 2004             19   \n622  Profil Kesehatan Indonesia Tahun 2005             20   \n\n                                            Source URL  \n618  https://pusdatin.kemkes.go.id/download.php?fil...  \n619  https://pusdatin.kemkes.go.id/download.php?fil...  \n620  https://pusdatin.kemkes.go.id/download.php?fil...  \n621  https://pusdatin.kemkes.go.id/download.php?fil...  \n622  https://pusdatin.kemkes.go.id/download.php?fil...  ",
            "text/html": "<div>\n<style scoped>\n    .dataframe tbody tr th:only-of-type {\n        vertical-align: middle;\n    }\n\n    .dataframe tbody tr th {\n        vertical-align: top;\n    }\n\n    .dataframe thead th {\n        text-align: right;\n    }\n</style>\n<table border=\"1\" class=\"dataframe\">\n  <thead>\n    <tr style=\"text-align: right;\">\n      <th></th>\n      <th>Cause</th>\n      <th>Type</th>\n      <th>Year</th>\n      <th>Data Redundancy</th>\n      <th>Total Deaths</th>\n      <th>Source</th>\n      <th>Page at Source</th>\n      <th>Source URL</th>\n    </tr>\n  </thead>\n  <tbody>\n    <tr>\n      <th>618</th>\n      <td>Persalinan dengan penyulit gawat janin</td>\n      <td>Bencana Non Alam dan Penyakit</td>\n      <td>2004</td>\n      <td>1</td>\n      <td>11.0</td>\n      <td>Profil Kesehatan Indonesia Tahun 2004</td>\n      <td>19</td>\n      <td>https://pusdatin.kemkes.go.id/download.php?fil...</td>\n    </tr>\n    <tr>\n      <th>619</th>\n      <td>Persalinan dengan penyulit gawat janin</td>\n      <td>Bencana Non Alam dan Penyakit</td>\n      <td>2005</td>\n      <td>1</td>\n      <td>8.0</td>\n      <td>Profil Kesehatan Indonesia Tahun 2005</td>\n      <td>20</td>\n      <td>https://pusdatin.kemkes.go.id/download.php?fil...</td>\n    </tr>\n    <tr>\n      <th>620</th>\n      <td>Persalinan dengan penyulit gawat janin</td>\n      <td>Bencana Non Alam dan Penyakit</td>\n      <td>2006</td>\n      <td>1</td>\n      <td>11.0</td>\n      <td>Profil Kesehatan Indonesia Tahun 2006</td>\n      <td>24</td>\n      <td>https://pusdatin.kemkes.go.id/download.php?fil...</td>\n    </tr>\n    <tr>\n      <th>621</th>\n      <td>Persalinan prematur</td>\n      <td>Bencana Non Alam dan Penyakit</td>\n      <td>2004</td>\n      <td>1</td>\n      <td>23.0</td>\n      <td>Profil Kesehatan Indonesia Tahun 2004</td>\n      <td>19</td>\n      <td>https://pusdatin.kemkes.go.id/download.php?fil...</td>\n    </tr>\n    <tr>\n      <th>622</th>\n      <td>Persalinan prematur</td>\n      <td>Bencana Non Alam dan Penyakit</td>\n      <td>2005</td>\n      <td>1</td>\n      <td>31.0</td>\n      <td>Profil Kesehatan Indonesia Tahun 2005</td>\n      <td>20</td>\n      <td>https://pusdatin.kemkes.go.id/download.php?fil...</td>\n    </tr>\n  </tbody>\n</table>\n</div>"
          },
          "metadata": {}
        }
      ]
    },
    {
      "cell_type": "code",
      "source": "print(\"\\nSebelum menggunakan fungsi drop_duplicates\")\nprint(\"Jumlah Nilai Duplikat:\",dataset_split.duplicated().sum())\nprint(\"\")\n\n# Menghapus duplikat menggunakan drop_duplicates dari pandas.\ndataset_split.drop_duplicates(inplace=True)\nprint(\"\\nSetelah menggunakan fungsi drop_duplicates\")\nprint(\"Jumlah Nilai Duplikat:\",dataset_split.duplicated().sum())",
      "metadata": {
        "trusted": true
      },
      "execution_count": 45,
      "outputs": [
        {
          "name": "stdout",
          "text": "\nSebelum menggunakan fungsi drop_duplicates\nJumlah Nilai Duplikat: 5\n\n\nSetelah menggunakan fungsi drop_duplicates\nJumlah Nilai Duplikat: 0\n",
          "output_type": "stream"
        }
      ]
    },
    {
      "cell_type": "markdown",
      "source": "## Melakukan normalisasi data pada Atribut Year dan Total Deaths menggunakan Min Max scaler",
      "metadata": {}
    },
    {
      "cell_type": "code",
      "source": "from sklearn.preprocessing import MinMaxScaler\nmin_max_scaler = MinMaxScaler()\nx_scaled = min_max_scaler.fit_transform(\n    dataset_split[\n            ['Year', 'Total Deaths']]\n)\ndata_normalization = pd.DataFrame(x_scaled)\ndata_normalization.head()",
      "metadata": {
        "trusted": true
      },
      "execution_count": 46,
      "outputs": [
        {
          "execution_count": 46,
          "output_type": "execute_result",
          "data": {
            "text/plain": "          0         1\n0  0.545455  0.000000\n1  0.000000  0.000364\n2  0.045455  0.000766\n3  0.090909  0.000774\n4  0.136364  0.002021",
            "text/html": "<div>\n<style scoped>\n    .dataframe tbody tr th:only-of-type {\n        vertical-align: middle;\n    }\n\n    .dataframe tbody tr th {\n        vertical-align: top;\n    }\n\n    .dataframe thead th {\n        text-align: right;\n    }\n</style>\n<table border=\"1\" class=\"dataframe\">\n  <thead>\n    <tr style=\"text-align: right;\">\n      <th></th>\n      <th>0</th>\n      <th>1</th>\n    </tr>\n  </thead>\n  <tbody>\n    <tr>\n      <th>0</th>\n      <td>0.545455</td>\n      <td>0.000000</td>\n    </tr>\n    <tr>\n      <th>1</th>\n      <td>0.000000</td>\n      <td>0.000364</td>\n    </tr>\n    <tr>\n      <th>2</th>\n      <td>0.045455</td>\n      <td>0.000766</td>\n    </tr>\n    <tr>\n      <th>3</th>\n      <td>0.090909</td>\n      <td>0.000774</td>\n    </tr>\n    <tr>\n      <th>4</th>\n      <td>0.136364</td>\n      <td>0.002021</td>\n    </tr>\n  </tbody>\n</table>\n</div>"
          },
          "metadata": {}
        }
      ]
    },
    {
      "cell_type": "markdown",
      "source": "## Melakukan standarisasi data pada Dataset",
      "metadata": {}
    },
    {
      "cell_type": "code",
      "source": "from sklearn.preprocessing import StandardScaler\n\nstandar_scaler = StandardScaler()\nx_scaled2 = standar_scaler.fit_transform(\n    dataset_split[\n            ['Year', 'Total Deaths']]\n)\ndata_standarization = pd.DataFrame(x_scaled2)\ndata_standarization.head()",
      "metadata": {
        "trusted": true
      },
      "execution_count": 47,
      "outputs": [
        {
          "execution_count": 47,
          "output_type": "execute_result",
          "data": {
            "text/plain": "          0         1\n0  0.243135 -0.189598\n1 -1.834284 -0.183369\n2 -1.661165 -0.176478\n3 -1.488047 -0.176345\n4 -1.314929 -0.155009",
            "text/html": "<div>\n<style scoped>\n    .dataframe tbody tr th:only-of-type {\n        vertical-align: middle;\n    }\n\n    .dataframe tbody tr th {\n        vertical-align: top;\n    }\n\n    .dataframe thead th {\n        text-align: right;\n    }\n</style>\n<table border=\"1\" class=\"dataframe\">\n  <thead>\n    <tr style=\"text-align: right;\">\n      <th></th>\n      <th>0</th>\n      <th>1</th>\n    </tr>\n  </thead>\n  <tbody>\n    <tr>\n      <th>0</th>\n      <td>0.243135</td>\n      <td>-0.189598</td>\n    </tr>\n    <tr>\n      <th>1</th>\n      <td>-1.834284</td>\n      <td>-0.183369</td>\n    </tr>\n    <tr>\n      <th>2</th>\n      <td>-1.661165</td>\n      <td>-0.176478</td>\n    </tr>\n    <tr>\n      <th>3</th>\n      <td>-1.488047</td>\n      <td>-0.176345</td>\n    </tr>\n    <tr>\n      <th>4</th>\n      <td>-1.314929</td>\n      <td>-0.155009</td>\n    </tr>\n  </tbody>\n</table>\n</div>"
          },
          "metadata": {}
        }
      ]
    },
    {
      "cell_type": "code",
      "source": "np.std(x_scaled2)",
      "metadata": {
        "trusted": true
      },
      "execution_count": 48,
      "outputs": [
        {
          "execution_count": 48,
          "output_type": "execute_result",
          "data": {
            "text/plain": "1.0"
          },
          "metadata": {}
        }
      ]
    },
    {
      "cell_type": "code",
      "source": "np.mean(x_scaled2)",
      "metadata": {
        "trusted": true
      },
      "execution_count": 49,
      "outputs": [
        {
          "execution_count": 49,
          "output_type": "execute_result",
          "data": {
            "text/plain": "-5.608024332980642e-15"
          },
          "metadata": {}
        }
      ]
    },
    {
      "cell_type": "markdown",
      "source": "## Mengubah Tipe Data Atribut, Angka -> Object",
      "metadata": {}
    },
    {
      "cell_type": "code",
      "source": "dataset_split[\"Year\"].dtypes",
      "metadata": {
        "trusted": true
      },
      "execution_count": 50,
      "outputs": [
        {
          "execution_count": 50,
          "output_type": "execute_result",
          "data": {
            "text/plain": "dtype('int64')"
          },
          "metadata": {}
        }
      ]
    },
    {
      "cell_type": "code",
      "source": "Tipe_Objek = dataset_split[[\"Year\"]].astype(\"object\")\nTipe_Objek[\"Year\"].dtypes",
      "metadata": {
        "trusted": true
      },
      "execution_count": 51,
      "outputs": [
        {
          "execution_count": 51,
          "output_type": "execute_result",
          "data": {
            "text/plain": "dtype('O')"
          },
          "metadata": {}
        }
      ]
    },
    {
      "cell_type": "markdown",
      "source": "## One Hot Encoding pada Dataset",
      "metadata": {}
    },
    {
      "cell_type": "code",
      "source": "from sklearn.preprocessing import OneHotEncoder\ndataset_oneHot = pd.read_csv(\"Penyebab Kematian di Indonesia yang Dilaporkan.csv\")\none_hot_encoding = OneHotEncoder(sparse=False)\nCause_encoded = one_hot_encoding.fit_transform(dataset_oneHot[['Cause']])\nCause_encoded2 = pd.DataFrame(Cause_encoded)\ndataset_oneHot = dataset_oneHot.join(Cause_encoded2 )\ndataset_oneHot.head(10)",
      "metadata": {
        "trusted": true
      },
      "execution_count": 52,
      "outputs": [
        {
          "execution_count": 52,
          "output_type": "execute_result",
          "data": {
            "text/plain": "             Cause                           Type  Year  Data Redundancy  \\\n0  Abrasi Air Laut                   Bencana Alam  2012                1   \n1             AIDS  Bencana Non Alam dan Penyakit  2000                1   \n2             AIDS  Bencana Non Alam dan Penyakit  2001                1   \n3             AIDS  Bencana Non Alam dan Penyakit  2002                1   \n4             AIDS  Bencana Non Alam dan Penyakit  2003                1   \n5             AIDS  Bencana Non Alam dan Penyakit  2004                1   \n6             AIDS  Bencana Non Alam dan Penyakit  2005                1   \n7             AIDS  Bencana Non Alam dan Penyakit  2006                1   \n8             AIDS  Bencana Non Alam dan Penyakit  2007                1   \n9             AIDS  Bencana Non Alam dan Penyakit  2008                1   \n\n   Total Deaths                                 Source Page at Source  \\\n0             0  Profil Kesehatan Indonesia Tahun 2012  Lampiran 3.38   \n1            47  Profil Kesehatan Indonesia Tahun 2004             78   \n2            99  Profil Kesehatan Indonesia Tahun 2004             78   \n3           100  Profil Kesehatan Indonesia Tahun 2004             78   \n4           261  Profil Kesehatan Indonesia Tahun 2010            115   \n5           361  Profil Kesehatan Indonesia Tahun 2010            115   \n6           509  Profil Kesehatan Indonesia Tahun 2011            148   \n7           635  Profil Kesehatan Indonesia Tahun 2011            148   \n8           788  Profil Kesehatan Indonesia Tahun 2011            148   \n9           711  Profil Kesehatan Indonesia Tahun 2011            148   \n\n                                          Source URL    0    1  ...  171  172  \\\n0  https://pusdatin.kemkes.go.id/download.php?fil...  0.0  1.0  ...  0.0  0.0   \n1  https://pusdatin.kemkes.go.id/download.php?fil...  1.0  0.0  ...  0.0  0.0   \n2  https://pusdatin.kemkes.go.id/download.php?fil...  1.0  0.0  ...  0.0  0.0   \n3  https://pusdatin.kemkes.go.id/download.php?fil...  1.0  0.0  ...  0.0  0.0   \n4  https://pusdatin.kemkes.go.id/download.php?fil...  1.0  0.0  ...  0.0  0.0   \n5  https://pusdatin.kemkes.go.id/download.php?fil...  1.0  0.0  ...  0.0  0.0   \n6  https://pusdatin.kemkes.go.id/download.php?fil...  1.0  0.0  ...  0.0  0.0   \n7  https://pusdatin.kemkes.go.id/download.php?fil...  1.0  0.0  ...  0.0  0.0   \n8  https://pusdatin.kemkes.go.id/download.php?fil...  1.0  0.0  ...  0.0  0.0   \n9  https://pusdatin.kemkes.go.id/download.php?fil...  1.0  0.0  ...  0.0  0.0   \n\n   173  174  175  176  177  178  179  180  \n0  0.0  0.0  0.0  0.0  0.0  0.0  0.0  0.0  \n1  0.0  0.0  0.0  0.0  0.0  0.0  0.0  0.0  \n2  0.0  0.0  0.0  0.0  0.0  0.0  0.0  0.0  \n3  0.0  0.0  0.0  0.0  0.0  0.0  0.0  0.0  \n4  0.0  0.0  0.0  0.0  0.0  0.0  0.0  0.0  \n5  0.0  0.0  0.0  0.0  0.0  0.0  0.0  0.0  \n6  0.0  0.0  0.0  0.0  0.0  0.0  0.0  0.0  \n7  0.0  0.0  0.0  0.0  0.0  0.0  0.0  0.0  \n8  0.0  0.0  0.0  0.0  0.0  0.0  0.0  0.0  \n9  0.0  0.0  0.0  0.0  0.0  0.0  0.0  0.0  \n\n[10 rows x 189 columns]",
            "text/html": "<div>\n<style scoped>\n    .dataframe tbody tr th:only-of-type {\n        vertical-align: middle;\n    }\n\n    .dataframe tbody tr th {\n        vertical-align: top;\n    }\n\n    .dataframe thead th {\n        text-align: right;\n    }\n</style>\n<table border=\"1\" class=\"dataframe\">\n  <thead>\n    <tr style=\"text-align: right;\">\n      <th></th>\n      <th>Cause</th>\n      <th>Type</th>\n      <th>Year</th>\n      <th>Data Redundancy</th>\n      <th>Total Deaths</th>\n      <th>Source</th>\n      <th>Page at Source</th>\n      <th>Source URL</th>\n      <th>0</th>\n      <th>1</th>\n      <th>...</th>\n      <th>171</th>\n      <th>172</th>\n      <th>173</th>\n      <th>174</th>\n      <th>175</th>\n      <th>176</th>\n      <th>177</th>\n      <th>178</th>\n      <th>179</th>\n      <th>180</th>\n    </tr>\n  </thead>\n  <tbody>\n    <tr>\n      <th>0</th>\n      <td>Abrasi Air Laut</td>\n      <td>Bencana Alam</td>\n      <td>2012</td>\n      <td>1</td>\n      <td>0</td>\n      <td>Profil Kesehatan Indonesia Tahun 2012</td>\n      <td>Lampiran 3.38</td>\n      <td>https://pusdatin.kemkes.go.id/download.php?fil...</td>\n      <td>0.0</td>\n      <td>1.0</td>\n      <td>...</td>\n      <td>0.0</td>\n      <td>0.0</td>\n      <td>0.0</td>\n      <td>0.0</td>\n      <td>0.0</td>\n      <td>0.0</td>\n      <td>0.0</td>\n      <td>0.0</td>\n      <td>0.0</td>\n      <td>0.0</td>\n    </tr>\n    <tr>\n      <th>1</th>\n      <td>AIDS</td>\n      <td>Bencana Non Alam dan Penyakit</td>\n      <td>2000</td>\n      <td>1</td>\n      <td>47</td>\n      <td>Profil Kesehatan Indonesia Tahun 2004</td>\n      <td>78</td>\n      <td>https://pusdatin.kemkes.go.id/download.php?fil...</td>\n      <td>1.0</td>\n      <td>0.0</td>\n      <td>...</td>\n      <td>0.0</td>\n      <td>0.0</td>\n      <td>0.0</td>\n      <td>0.0</td>\n      <td>0.0</td>\n      <td>0.0</td>\n      <td>0.0</td>\n      <td>0.0</td>\n      <td>0.0</td>\n      <td>0.0</td>\n    </tr>\n    <tr>\n      <th>2</th>\n      <td>AIDS</td>\n      <td>Bencana Non Alam dan Penyakit</td>\n      <td>2001</td>\n      <td>1</td>\n      <td>99</td>\n      <td>Profil Kesehatan Indonesia Tahun 2004</td>\n      <td>78</td>\n      <td>https://pusdatin.kemkes.go.id/download.php?fil...</td>\n      <td>1.0</td>\n      <td>0.0</td>\n      <td>...</td>\n      <td>0.0</td>\n      <td>0.0</td>\n      <td>0.0</td>\n      <td>0.0</td>\n      <td>0.0</td>\n      <td>0.0</td>\n      <td>0.0</td>\n      <td>0.0</td>\n      <td>0.0</td>\n      <td>0.0</td>\n    </tr>\n    <tr>\n      <th>3</th>\n      <td>AIDS</td>\n      <td>Bencana Non Alam dan Penyakit</td>\n      <td>2002</td>\n      <td>1</td>\n      <td>100</td>\n      <td>Profil Kesehatan Indonesia Tahun 2004</td>\n      <td>78</td>\n      <td>https://pusdatin.kemkes.go.id/download.php?fil...</td>\n      <td>1.0</td>\n      <td>0.0</td>\n      <td>...</td>\n      <td>0.0</td>\n      <td>0.0</td>\n      <td>0.0</td>\n      <td>0.0</td>\n      <td>0.0</td>\n      <td>0.0</td>\n      <td>0.0</td>\n      <td>0.0</td>\n      <td>0.0</td>\n      <td>0.0</td>\n    </tr>\n    <tr>\n      <th>4</th>\n      <td>AIDS</td>\n      <td>Bencana Non Alam dan Penyakit</td>\n      <td>2003</td>\n      <td>1</td>\n      <td>261</td>\n      <td>Profil Kesehatan Indonesia Tahun 2010</td>\n      <td>115</td>\n      <td>https://pusdatin.kemkes.go.id/download.php?fil...</td>\n      <td>1.0</td>\n      <td>0.0</td>\n      <td>...</td>\n      <td>0.0</td>\n      <td>0.0</td>\n      <td>0.0</td>\n      <td>0.0</td>\n      <td>0.0</td>\n      <td>0.0</td>\n      <td>0.0</td>\n      <td>0.0</td>\n      <td>0.0</td>\n      <td>0.0</td>\n    </tr>\n    <tr>\n      <th>5</th>\n      <td>AIDS</td>\n      <td>Bencana Non Alam dan Penyakit</td>\n      <td>2004</td>\n      <td>1</td>\n      <td>361</td>\n      <td>Profil Kesehatan Indonesia Tahun 2010</td>\n      <td>115</td>\n      <td>https://pusdatin.kemkes.go.id/download.php?fil...</td>\n      <td>1.0</td>\n      <td>0.0</td>\n      <td>...</td>\n      <td>0.0</td>\n      <td>0.0</td>\n      <td>0.0</td>\n      <td>0.0</td>\n      <td>0.0</td>\n      <td>0.0</td>\n      <td>0.0</td>\n      <td>0.0</td>\n      <td>0.0</td>\n      <td>0.0</td>\n    </tr>\n    <tr>\n      <th>6</th>\n      <td>AIDS</td>\n      <td>Bencana Non Alam dan Penyakit</td>\n      <td>2005</td>\n      <td>1</td>\n      <td>509</td>\n      <td>Profil Kesehatan Indonesia Tahun 2011</td>\n      <td>148</td>\n      <td>https://pusdatin.kemkes.go.id/download.php?fil...</td>\n      <td>1.0</td>\n      <td>0.0</td>\n      <td>...</td>\n      <td>0.0</td>\n      <td>0.0</td>\n      <td>0.0</td>\n      <td>0.0</td>\n      <td>0.0</td>\n      <td>0.0</td>\n      <td>0.0</td>\n      <td>0.0</td>\n      <td>0.0</td>\n      <td>0.0</td>\n    </tr>\n    <tr>\n      <th>7</th>\n      <td>AIDS</td>\n      <td>Bencana Non Alam dan Penyakit</td>\n      <td>2006</td>\n      <td>1</td>\n      <td>635</td>\n      <td>Profil Kesehatan Indonesia Tahun 2011</td>\n      <td>148</td>\n      <td>https://pusdatin.kemkes.go.id/download.php?fil...</td>\n      <td>1.0</td>\n      <td>0.0</td>\n      <td>...</td>\n      <td>0.0</td>\n      <td>0.0</td>\n      <td>0.0</td>\n      <td>0.0</td>\n      <td>0.0</td>\n      <td>0.0</td>\n      <td>0.0</td>\n      <td>0.0</td>\n      <td>0.0</td>\n      <td>0.0</td>\n    </tr>\n    <tr>\n      <th>8</th>\n      <td>AIDS</td>\n      <td>Bencana Non Alam dan Penyakit</td>\n      <td>2007</td>\n      <td>1</td>\n      <td>788</td>\n      <td>Profil Kesehatan Indonesia Tahun 2011</td>\n      <td>148</td>\n      <td>https://pusdatin.kemkes.go.id/download.php?fil...</td>\n      <td>1.0</td>\n      <td>0.0</td>\n      <td>...</td>\n      <td>0.0</td>\n      <td>0.0</td>\n      <td>0.0</td>\n      <td>0.0</td>\n      <td>0.0</td>\n      <td>0.0</td>\n      <td>0.0</td>\n      <td>0.0</td>\n      <td>0.0</td>\n      <td>0.0</td>\n    </tr>\n    <tr>\n      <th>9</th>\n      <td>AIDS</td>\n      <td>Bencana Non Alam dan Penyakit</td>\n      <td>2008</td>\n      <td>1</td>\n      <td>711</td>\n      <td>Profil Kesehatan Indonesia Tahun 2011</td>\n      <td>148</td>\n      <td>https://pusdatin.kemkes.go.id/download.php?fil...</td>\n      <td>1.0</td>\n      <td>0.0</td>\n      <td>...</td>\n      <td>0.0</td>\n      <td>0.0</td>\n      <td>0.0</td>\n      <td>0.0</td>\n      <td>0.0</td>\n      <td>0.0</td>\n      <td>0.0</td>\n      <td>0.0</td>\n      <td>0.0</td>\n      <td>0.0</td>\n    </tr>\n  </tbody>\n</table>\n<p>10 rows × 189 columns</p>\n</div>"
          },
          "metadata": {}
        }
      ]
    }
  ]
}